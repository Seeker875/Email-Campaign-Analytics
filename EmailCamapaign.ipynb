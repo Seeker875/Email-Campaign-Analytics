{
 "cells": [
  {
   "cell_type": "markdown",
   "metadata": {},
   "source": [
    "# Email campaign analytics\n",
    "                            \n",
    "\n",
    "### Data \n",
    "Dataset related to email campaigns of different departmental stores has been provided.\n",
    "\n",
    "In this work, After exploratory analysis of the data, regression model has been fitted with independent variable as readRatePercent."
   ]
  },
  {
   "cell_type": "code",
   "execution_count": 171,
   "metadata": {},
   "outputs": [
    {
     "name": "stdout",
     "output_type": "stream",
     "text": [
      "<class 'pandas.core.frame.DataFrame'>\n",
      "RangeIndex: 53868 entries, 0 to 53867\n",
      "Data columns (total 20 columns):\n",
      "brand                    53868 non-null object\n",
      "hasCreative              53868 non-null bool\n",
      "projectedVolume          53868 non-null int64\n",
      "campaignId               53868 non-null int64\n",
      "lastSeen                 53868 non-null datetime64[ns]\n",
      "spamCount                53868 non-null int64\n",
      "readDeleteRatePercent    52025 non-null float64\n",
      "subject                  53867 non-null object\n",
      "fromAddress              53868 non-null object\n",
      "mobileReady              53868 non-null bool\n",
      "isCommercial             53868 non-null bool\n",
      "firstSeen                53868 non-null datetime64[ns]\n",
      "imageDownloadUrl         47298 non-null object\n",
      "percentOfList            51911 non-null float64\n",
      "readRatePercent          52025 non-null float64\n",
      "deleteRatePercent        52025 non-null float64\n",
      "personalized             53868 non-null bool\n",
      "inboxCount               53867 non-null object\n",
      "lang                     53868 non-null object\n",
      "trans                    53868 non-null object\n",
      "dtypes: bool(4), datetime64[ns](2), float64(4), int64(3), object(7)\n",
      "memory usage: 6.8+ MB\n"
     ]
    }
   ],
   "source": [
    "%matplotlib inline\n",
    "\n",
    "from IPython.core.interactiveshell import InteractiveShell\n",
    "InteractiveShell.ast_node_interactivity = \"all\"\n",
    "\n",
    "import matplotlib\n",
    "import numpy as np\n",
    "import matplotlib.pyplot as plt\n",
    "import pandas as pd\n",
    "\n",
    "\n",
    "#Imprting Data\n",
    "\n",
    "#considering null as Na values\n",
    "# parsing date columns\n",
    "df = pd.read_excel(\"L2-sample_data.xlsx\",sheet_name=0,na_values='null',\n",
    "                   parse_dates=['lastSeen','firstSeen'])\n",
    "df.info()\n",
    "#df.describe()\n",
    "#df.shape\n",
    "#df.columns\n"
   ]
  },
  {
   "cell_type": "markdown",
   "metadata": {},
   "source": [
    "### Brands\n",
    "\n",
    "The column Brand contains the different brands in the dataset. There are 57 brands, NeimanMarcus has the most number of observations."
   ]
  },
  {
   "cell_type": "code",
   "execution_count": 172,
   "metadata": {},
   "outputs": [
    {
     "data": {
      "text/plain": [
       "57"
      ]
     },
     "execution_count": 172,
     "metadata": {},
     "output_type": "execute_result"
    },
    {
     "data": {
      "text/plain": [
       "NeimanMarcus    4469\n",
       "JCPenney        3934\n",
       "Sears           3245\n",
       "Macys           2900\n",
       "Asos            2171\n",
       "BonTon          2083\n",
       "Saks            2054\n",
       "Gilt            2016\n",
       "Yoox            1904\n",
       "Kohls           1848\n",
       "Name: brand, dtype: int64"
      ]
     },
     "execution_count": 172,
     "metadata": {},
     "output_type": "execute_result"
    },
    {
     "data": {
      "text/plain": [
       "Liverpool          59\n",
       "El Corte Ingles    57\n",
       "LeBonMarche        47\n",
       "Kadewe             45\n",
       "Daimaru             1\n",
       "Name: brand, dtype: int64"
      ]
     },
     "execution_count": 172,
     "metadata": {},
     "output_type": "execute_result"
    }
   ],
   "source": [
    "#Number of brands\n",
    "df.brand.nunique()\n",
    "# 57 brands\n",
    "\n",
    "# Number of obs for each brand\n",
    "#top 10 brands\n",
    "\n",
    "df.brand.value_counts().head(10)\n",
    "# NeimanMarcus has highest 4469\n",
    "df.brand.value_counts().tail()"
   ]
  },
  {
   "cell_type": "markdown",
   "metadata": {},
   "source": [
    "### Selection of a departmental store \n",
    "\n",
    "I have selected JcPenney for the from the brands for the further exploration\n",
    "\n",
    " - Jcpenney has second highest number of observations and only 2 missing values for readRatePercent variable.\n",
    "\n",
    "  "
   ]
  },
  {
   "cell_type": "code",
   "execution_count": 42,
   "metadata": {},
   "outputs": [],
   "source": [
    "#df.brand[df.readRatePercent.isnull()].value_counts(dropna=False)\n",
    "#JcPenny has only 2 missing values, Nm has 27,\n",
    "\n",
    "#df.brand[df.readRatePercent == 0].value_counts(dropna=False)\n",
    "#JcPenny has 142 zero read rate percent\n",
    "#df.dtypes"
   ]
  },
  {
   "cell_type": "markdown",
   "metadata": {},
   "source": [
    "On checking the datatypes of the variables, The variable inboxCount is object type, it should be a numeric.\n",
    "\n",
    " - Converting inboxCount to numeric\n",
    " "
   ]
  },
  {
   "cell_type": "code",
   "execution_count": 173,
   "metadata": {
    "collapsed": true
   },
   "outputs": [],
   "source": [
    "\n",
    "#inbox count should not be object type, finding non int values\n",
    "icList = [i for i in df.inboxCount.unique() if type(i) !=int ]\n",
    "\n",
    "# replacing these values\n",
    "for _ in icList: \n",
    "    df.loc[df.inboxCount == _ , 'inboxCount'] = np.NaN\n",
    "\n",
    "df.inboxCount = df.inboxCount.apply(pd.to_numeric)\n"
   ]
  },
  {
   "cell_type": "markdown",
   "metadata": {},
   "source": [
    "#### New features\n",
    "- Image imageDownloadUrl has null values, a new variable hasImage is created from it\n",
    "- Varaible containing word counts for the subject is created.\n",
    "- For this work, I have not used variable 'imageDownloadUrl', so have dropped it along with subject(Dataset has trans) and lang variables\n"
   ]
  },
  {
   "cell_type": "code",
   "execution_count": 174,
   "metadata": {
    "scrolled": true
   },
   "outputs": [],
   "source": [
    "#null vals in imageDownloadUrl\n",
    "#df.imageDownloadUrl.isnull().sum()\n",
    "\n",
    "df['hasImage']= np.where(df.imageDownloadUrl.isnull(),0,1)\n",
    "\n",
    "df['subLen']= df.trans.apply(len)\n",
    "\n",
    "#dropping cols\n",
    "df = df.drop(['subject', 'imageDownloadUrl','lang'], axis=1)\n",
    "#df.info()"
   ]
  },
  {
   "cell_type": "markdown",
   "metadata": {},
   "source": [
    "### Benchmarking\n",
    "\n",
    "For benchmarking the performance of email campaign of JcPenney, comaprison has been done with the overall brands and the four similar competitors.\n"
   ]
  },
  {
   "cell_type": "code",
   "execution_count": 45,
   "metadata": {},
   "outputs": [
    {
     "data": {
      "text/plain": [
       "<matplotlib.axes._subplots.AxesSubplot at 0x1068d9470>"
      ]
     },
     "execution_count": 45,
     "metadata": {},
     "output_type": "execute_result"
    },
    {
     "data": {
      "text/plain": [
       "Text(0.5,1,'Histogram for readRatePercent of JcPenney')"
      ]
     },
     "execution_count": 45,
     "metadata": {},
     "output_type": "execute_result"
    },
    {
     "name": "stdout",
     "output_type": "stream",
     "text": [
      "Avearge for the Read rate percent for the Jc Penney : 0.209\n",
      "Avearge for the Read rate percent for all the stores : 0.188\n",
      "Avearge for the Read rate percent for the segment : 0.188\n"
     ]
    },
    {
     "data": {
      "image/png": "[encoded data removed]",
      "text/plain": [
       "<matplotlib.figure.Figure at 0x1068bea20>"
      ]
     },
     "metadata": {},
     "output_type": "display_data"
    }
   ],
   "source": [
    "#creating a new dataset for Jcpenney\n",
    "Jc = df.loc[df.brand == 'JCPenney',:]\n",
    "\n",
    "# exploring Jcpenney and read rate percent\n",
    "Jc.readRatePercent.hist()\n",
    "plt.title(\"Histogram for readRatePercent of JcPenney\")\n",
    "\n",
    "#Creating dataset for the Jcpenney segements\n",
    "comp = df[df['brand'].isin(['Sears','Macys','Kohls','Nordstrom','JCPenney'])]\n",
    "\n",
    "\n",
    "#mean of the read rate percent\n",
    "print(\"Avearge for the Read rate percent for the Jc Penney :\",round(Jc.readRatePercent.mean(),3))\n",
    "print(\"Avearge for the Read rate percent for all the stores :\",round(df.readRatePercent.mean(),3))\n",
    "print(\"Avearge for the Read rate percent for the segment :\",round(comp.readRatePercent.mean(),3))\n"
   ]
  },
  {
   "cell_type": "markdown",
   "metadata": {},
   "source": [
    "-  The average readRatePercent value for JcPenney is 20.9%\n",
    "-  We can see that the JcPenney is performing better than the overall, average for the industry and its competitors.\n",
    "-  The comaprison can be seen through the following boxplot\n",
    "-  The market leaders for the read rate percent are as follows"
   ]
  },
  {
   "cell_type": "code",
   "execution_count": 46,
   "metadata": {},
   "outputs": [
    {
     "data": {
      "text/plain": [
       "brand\n",
       "DavidJones         0.393713\n",
       "LeBonMarche        0.346021\n",
       "Debijenkorf        0.315533\n",
       "Next               0.263730\n",
       "MarksandSpencer    0.259628\n",
       "Name: readRatePercent, dtype: float64"
      ]
     },
     "execution_count": 46,
     "metadata": {},
     "output_type": "execute_result"
    }
   ],
   "source": [
    "df.groupby('brand')['readRatePercent'].mean().nlargest(5)"
   ]
  },
  {
   "cell_type": "markdown",
   "metadata": {},
   "source": [
    "#### Functions to create plots \n",
    "\n",
    " - Functions to create box plot and regplot\n",
    " - Regression plot is to see the relation between contious variable"
   ]
  },
  {
   "cell_type": "code",
   "execution_count": 61,
   "metadata": {},
   "outputs": [
    {
     "data": {
      "text/plain": [
       "<matplotlib.axes._subplots.AxesSubplot at 0x10cad2d30>"
      ]
     },
     "execution_count": 61,
     "metadata": {},
     "output_type": "execute_result"
    },
    {
     "data": {
      "image/png": "[encoded data removed]",
      "text/plain": [
       "<matplotlib.figure.Figure at 0x10d3ba908>"
      ]
     },
     "metadata": {},
     "output_type": "display_data"
    }
   ],
   "source": [
    "# creating boxplot with default argument as target variable and data as Jc \n",
    "import seaborn as sns \n",
    "def boxPlot(var,y='readRatePercent',data=Jc):\n",
    "    return sns.boxplot(x=var,y=y,data=data)\n",
    "\n",
    "# Regplot for numerc relations\n",
    "def regPlot(var,by=None,order=1):\n",
    "    return sns.lmplot(x=var,y='readRatePercent',data=Jc,hue=by,order=order)\n",
    "\n",
    "f, ax = plt.subplots(figsize=(12, 8))\n",
    "boxPlot('brand',data=comp)\n"
   ]
  },
  {
   "cell_type": "markdown",
   "metadata": {},
   "source": [
    "#### Exploring Categorical features\n",
    "\n",
    "Next, the relation of categorical features such as Personalized and hasCreative has been explored.\n",
    "\n",
    "- Again for exploring the proportion of target variable with the mean, appropriate functions have been created.\n",
    "- The variation of the target variable readRatePercent with the  categorical variables  for all the brands and the Jcpenney is analyzed. \n",
    "\n"
   ]
  },
  {
   "cell_type": "code",
   "execution_count": 48,
   "metadata": {},
   "outputs": [
    {
     "name": "stdout",
     "output_type": "stream",
     "text": [
      "Average for the Read rate percent for all barands with: hasCreative\n",
      "False    0.219056\n",
      "True     0.183073\n",
      "Name: readRatePercent, dtype: float64\n",
      "\n",
      "Average for the Read rate percent for JcPennney with: hasCreative\n",
      "False    0.256677\n",
      "True     0.202917\n",
      "Name: readRatePercent, dtype: float64\n"
     ]
    },
    {
     "data": {
      "text/plain": [
       "hasImage\n",
       "0    0.256677\n",
       "1    0.202917\n",
       "Name: readRatePercent, dtype: float64"
      ]
     },
     "execution_count": 48,
     "metadata": {},
     "output_type": "execute_result"
    },
    {
     "data": {
      "text/plain": [
       "hasImage\n",
       "0    0.219056\n",
       "1    0.183073\n",
       "Name: readRatePercent, dtype: float64"
      ]
     },
     "execution_count": 48,
     "metadata": {},
     "output_type": "execute_result"
    }
   ],
   "source": [
    "\n",
    "def prop(data,colBy,colWith):\n",
    "    # to cal prop of proportion with target var\n",
    "    return data.groupby(colBy)[colWith].mean()\n",
    "\n",
    "print(\"Average for the Read rate percent for all barands with:\",prop(df,'hasCreative','readRatePercent'))\n",
    "print(\"\\nAverage for the Read rate percent for JcPennney with:\",prop(Jc,'hasCreative','readRatePercent'))\n",
    "\n",
    "\n",
    "#Similarly we can see the realtion for the other variables\n",
    "\n",
    "prop(Jc,'hasImage','readRatePercent')\n",
    "prop(df,'hasImage','readRatePercent')\n",
    "\n",
    "#prop(Jc,'mobileReady','readRatePercent')\n",
    "#prop(df,'mobileReady','readRatePercent')\n",
    "\n",
    "\n",
    "#prop(Jc,'isCommercial','readRatePercent')\n",
    "#isCommercial true for Jc \n",
    "#prop(df,'isCommercial','readRatePercent')\n",
    "\n",
    "\n",
    "#deleteRatePercent and hasCreative\n",
    "#prop(Jc,'hasCreative','deleteRatePercent')\n",
    "\n",
    "#prop(Jc,'hasCreative','readDeleteRatePercent')\n"
   ]
  },
  {
   "cell_type": "markdown",
   "metadata": {},
   "source": [
    "#### Key Insights\n",
    "\n",
    "- For both hasCreative and mobileReady average readRatePercent is high when the values are False\n",
    "- Average readRatePercent is high when the email doesnot contain email\n",
    "- Variable is isCommercial has only one level so can be dropped\n",
    "- hasCreative has inverse relation for readDeleteRatePercent and deleteRatePercent\n",
    "\n",
    "#### Personalized has very prominent relation with the readRatePercent\n",
    "\n",
    "Personalized emails have very high readRatePercent "
   ]
  },
  {
   "cell_type": "code",
   "execution_count": 103,
   "metadata": {},
   "outputs": [
    {
     "data": {
      "text/plain": [
       "personalized\n",
       "False    0.199588\n",
       "True     0.361000\n",
       "Name: readRatePercent, dtype: float64"
      ]
     },
     "execution_count": 103,
     "metadata": {},
     "output_type": "execute_result"
    },
    {
     "data": {
      "text/plain": [
       "personalized\n",
       "False    0.185203\n",
       "True     0.209208\n",
       "Name: readRatePercent, dtype: float64"
      ]
     },
     "execution_count": 103,
     "metadata": {},
     "output_type": "execute_result"
    },
    {
     "data": {
      "text/plain": [
       "<matplotlib.axes._subplots.AxesSubplot at 0x101a63208>"
      ]
     },
     "execution_count": 103,
     "metadata": {},
     "output_type": "execute_result"
    },
    {
     "data": {
      "image/png": "[encoded data removed]",
      "text/plain": [
       "<matplotlib.figure.Figure at 0x10780c2e8>"
      ]
     },
     "metadata": {},
     "output_type": "display_data"
    }
   ],
   "source": [
    "prop(Jc,'personalized','readRatePercent')\n",
    "# prsonalized work very well for Jc\n",
    "#prop(comp,'personalized','readRatePercent')\n",
    "prop(df,'personalized','readRatePercent')\n",
    "\n",
    "boxPlot('personalized')"
   ]
  },
  {
   "cell_type": "markdown",
   "metadata": {},
   "source": [
    "#### fromAdress\n",
    "\n",
    "- On further exploration of the variable fromAddress one can see that the account address of Jcpenney has very highReadratePercent\n",
    "- The subject lines are related to password and expiration of account.\n",
    "- The rows with this address should be dropped since the purpose of this address is not for advertising\n"
   ]
  },
  {
   "cell_type": "code",
   "execution_count": 50,
   "metadata": {},
   "outputs": [
    {
     "data": {
      "text/plain": [
       "array(['jcpenney@e.jcpenney.com', 'jcpenneyacct@e.jcpenney.com'], dtype=object)"
      ]
     },
     "execution_count": 50,
     "metadata": {},
     "output_type": "execute_result"
    },
    {
     "data": {
      "text/plain": [
       "fromAddress\n",
       "jcpenney@e.jcpenney.com        0.204633\n",
       "jcpenneyacct@e.jcpenney.com    0.768183\n",
       "Name: readRatePercent, dtype: float64"
      ]
     },
     "execution_count": 50,
     "metadata": {},
     "output_type": "execute_result"
    },
    {
     "data": {
      "text/plain": [
       "fromAddress\n",
       "jcpenney@e.jcpenney.com        3904\n",
       "jcpenneyacct@e.jcpenney.com      28\n",
       "Name: readRatePercent, dtype: int64"
      ]
     },
     "execution_count": 50,
     "metadata": {},
     "output_type": "execute_result"
    },
    {
     "data": {
      "text/plain": [
       "14853    Here's how to reset your password\n",
       "14905    Here's how to reset your password\n",
       "15010    Here's how to reset your password\n",
       "15091    Here's how to reset your password\n",
       "15177    Here's how to reset your password\n",
       "Name: trans, dtype: object"
      ]
     },
     "execution_count": 50,
     "metadata": {},
     "output_type": "execute_result"
    },
    {
     "data": {
      "text/plain": [
       "personalized  mobileReady\n",
       "False         False          0.210612\n",
       "              True           0.172816\n",
       "True          False          0.378041\n",
       "              True           0.303791\n",
       "Name: readRatePercent, dtype: float64"
      ]
     },
     "execution_count": 50,
     "metadata": {},
     "output_type": "execute_result"
    }
   ],
   "source": [
    "Jc.fromAddress.unique()\n",
    "\n",
    "prop(Jc,'fromAddress','readRatePercent')\n",
    "\n",
    "Jc.groupby('fromAddress')['readRatePercent'].count()\n",
    "\n",
    "#subject lines with the head\n",
    "Jc[Jc.fromAddress == 'jcpenneyacct@e.jcpenney.com'].trans.head()\n",
    "\n",
    "# dropping rows with Jc account address\n",
    "Jc = Jc[(Jc.fromAddress != 'jcpenneyacct@e.jcpenney.com')]\n",
    "\n",
    "# we can see the relation between subgroups \n",
    "Jc.groupby(['personalized','mobileReady'])['readRatePercent'].mean()\n"
   ]
  },
  {
   "cell_type": "markdown",
   "metadata": {},
   "source": [
    "### Imputatation of missing data\n",
    "\n",
    "Rather than dropping rows with missing data, the imputation as per average of the different categorical variables is a better strategy\n",
    "\n",
    "- Dropping cols brand, campaignId, fromAddress, isCommercial\n"
   ]
  },
  {
   "cell_type": "code",
   "execution_count": 55,
   "metadata": {},
   "outputs": [],
   "source": [
    "#imputing missing values as per personalized and hasCreative\n",
    "\n",
    "import warnings\n",
    "warnings.filterwarnings('ignore')\n",
    "\n",
    "\n",
    "group = Jc.groupby(['personalized','hasCreative'])\n",
    "def imp(data):\n",
    "    return data.fillna(data.mean())\n",
    "\n",
    "#imputation\n",
    "Jc.readDeleteRatePercent = group['readDeleteRatePercent'].transform(imp)\n",
    "\n",
    "Jc.readRatePercent = group['readRatePercent'].transform(imp)\n",
    "Jc.deleteRatePercent = group['deleteRatePercent'].transform(imp)\n",
    "Jc.percentOfList = group['percentOfList'].transform(imp)\n",
    "\n",
    "\n",
    "Jc = Jc.drop(['brand', 'campaignId','fromAddress','isCommercial'], axis=1)"
   ]
  },
  {
   "cell_type": "markdown",
   "metadata": {},
   "source": [
    "### Numeric columns\n",
    "\n",
    "Along with regression plot, the correlation plot depicts relation between numeric columns.\n",
    "As we can see in the plot readRate has weak corr with most of the features\n",
    "\n"
   ]
  },
  {
   "cell_type": "code",
   "execution_count": 67,
   "metadata": {},
   "outputs": [
    {
     "data": {
      "text/plain": [
       "<matplotlib.axes._subplots.AxesSubplot at 0x10bb56ef0>"
      ]
     },
     "execution_count": 67,
     "metadata": {},
     "output_type": "execute_result"
    },
    {
     "data": {
      "image/png": "[encoded data removed]",
      "text/plain": [
       "<matplotlib.figure.Figure at 0x10f6f82b0>"
      ]
     },
     "metadata": {},
     "output_type": "display_data"
    }
   ],
   "source": [
    "#Jc.info()\n",
    "corr = Jc.corr()\n",
    "cmap = sns.diverging_palette(220, 10, as_cmap=True)\n",
    "f, ax = plt.subplots(figsize=(10, 10))\n",
    "sns.heatmap(corr, cmap=cmap,\n",
    "            xticklabels=corr.columns.values,\n",
    "            yticklabels=corr.columns.values)\n",
    "\n",
    "#print(df['projectedVolume'].corr(df['readRatePercent']))\n"
   ]
  },
  {
   "cell_type": "markdown",
   "metadata": {},
   "source": [
    "- Using regPlot function we can draw plots for different numeric variables and see the realtion"
   ]
  },
  {
   "cell_type": "code",
   "execution_count": 102,
   "metadata": {},
   "outputs": [
    {
     "data": {
      "text/plain": [
       "<seaborn.axisgrid.FacetGrid at 0x108267e80>"
      ]
     },
     "execution_count": 102,
     "metadata": {},
     "output_type": "execute_result"
    },
    {
     "data": {
      "image/png": "[encoded data removed]",
      "text/plain": [
       "<matplotlib.figure.Figure at 0x108267860>"
      ]
     },
     "metadata": {},
     "output_type": "display_data"
    }
   ],
   "source": [
    "regPlot('subLen')"
   ]
  },
  {
   "cell_type": "markdown",
   "metadata": {},
   "source": [
    "### Time series analysis\n",
    "\n",
    "In this part I have analyzed monthly averages of the readRatePercent with firstSeen as the timeframe. The intution is there can be seasonal Trend in the readRate percent.\n",
    "- Monthly averages have been increasing with a increase from November.\n",
    "- Similar trend for all brands"
   ]
  },
  {
   "cell_type": "code",
   "execution_count": 71,
   "metadata": {},
   "outputs": [
    {
     "data": {
      "text/plain": [
       "<matplotlib.axes._subplots.AxesSubplot at 0x1077ed9b0>"
      ]
     },
     "execution_count": 71,
     "metadata": {},
     "output_type": "execute_result"
    },
    {
     "data": {
      "text/plain": [
       "firstSeen\n",
       "April,2016        20.68\n",
       "May,2016          19.64\n",
       "June,2016         18.10\n",
       "July,2016         17.88\n",
       "August,2016       19.79\n",
       "September,2016    18.48\n",
       "October,2016      18.53\n",
       "November,2016     22.95\n",
       "December,2016     21.95\n",
       "January,2017      21.63\n",
       "February,2017     22.23\n",
       "March,2017        22.39\n",
       "April,2017        21.54\n",
       "Name: readRatePercent, dtype: float64"
      ]
     },
     "execution_count": 71,
     "metadata": {},
     "output_type": "execute_result"
    },
    {
     "data": {
      "image/png": "[encoded data removed]",
      "text/plain": [
       "<matplotlib.figure.Figure at 0x1082ce7f0>"
      ]
     },
     "metadata": {},
     "output_type": "display_data"
    }
   ],
   "source": [
    "#time series \n",
    "JcTs = pd.Series(Jc.set_index('firstSeen')['readRatePercent'],index=Jc.firstSeen)\n",
    "\n",
    "#JcTs = JcTs.dropna()\n",
    "f, ax = plt.subplots(figsize=(18, 5))\n",
    "JcTs.plot()\n",
    "\n",
    "#monthly Average of readRate\n",
    "round(JcTs.resample('M').mean().rename(index=lambda x: x.strftime('%B,%Y')),4)*100\n"
   ]
  },
  {
   "cell_type": "code",
   "execution_count": 73,
   "metadata": {},
   "outputs": [
    {
     "data": {
      "text/plain": [
       "firstSeen\n",
       "April,2016        17.92\n",
       "May,2016          17.82\n",
       "June,2016         17.67\n",
       "July,2016         17.78\n",
       "August,2016       17.84\n",
       "September,2016    16.03\n",
       "October,2016      16.17\n",
       "November,2016     20.04\n",
       "December,2016     20.30\n",
       "January,2017      21.03\n",
       "February,2017     20.34\n",
       "March,2017        20.65\n",
       "April,2017        20.40\n",
       "Name: readRatePercent, dtype: float64"
      ]
     },
     "execution_count": 73,
     "metadata": {},
     "output_type": "execute_result"
    }
   ],
   "source": [
    "# Monthly average for all brands\n",
    "dfTs = pd.Series(df.set_index('firstSeen')['readRatePercent'],index=df.firstSeen)\n",
    "\n",
    "dfTs = dfTs.dropna()\n",
    "\n",
    "#monthly Average of readRate\n",
    "round(dfTs.resample('M').mean().rename(index=lambda x: x.strftime('%B,%Y')),4)*100\n",
    "\n",
    "\n",
    "# combine all in one df and plot"
   ]
  },
  {
   "cell_type": "markdown",
   "metadata": {},
   "source": [
    "### Text Mining\n",
    "\n",
    "The variable trans has subject lines translated to english, The content of the subject can greatly vary readRatePercent.\n",
    "- For the analysis text from the data set has been divided into 2 interest levels high and low\n",
    "- Also the text of the brands with the highest readRatePercent has been analyzed."
   ]
  },
  {
   "cell_type": "code",
   "execution_count": 74,
   "metadata": {},
   "outputs": [
    {
     "data": {
      "text/plain": [
       "[('earned', 287),\n",
       " ('good', 206),\n",
       " ('news', 206),\n",
       " ('points', 206),\n",
       " ('thanks', 142),\n",
       " ('jcpenney', 135),\n",
       " ('reward', 122),\n",
       " ('shopping', 118),\n",
       " ('late', 115),\n",
       " ('waiting', 106),\n",
       " ('redacted', 100),\n",
       " ('congrats', 99),\n",
       " ('order', 81),\n",
       " ('ready', 64),\n",
       " ('extra', 58),\n",
       " ('item', 51),\n",
       " ('look', 38),\n",
       " ('thank', 36),\n",
       " ('ends', 36),\n",
       " ('shipped', 33)]"
      ]
     },
     "execution_count": 74,
     "metadata": {},
     "output_type": "execute_result"
    }
   ],
   "source": [
    "from collections import Counter\n",
    "import nltk\n",
    "from nltk.corpus import stopwords\n",
    "\n",
    "stop_words = stopwords.words('english')\n",
    "\n",
    "#Function to get n most commmon words\n",
    "def MostComm(text,n):\n",
    "    # Get most common words\n",
    "    tokens = [token for token in nltk.word_tokenize(text.lower()) if token.isalpha()]\n",
    "    tokens = [token for token in tokens if token not in stopwords.words('english')]\n",
    "    \n",
    "    return Counter(tokens).most_common(n)\n",
    "\n",
    "\n",
    "#subject lines with high readrate percent \n",
    "textH = \" \".join(Jc.trans[Jc.readRatePercent > 0.25])\n",
    "\n",
    "#20 most common words\n",
    "MostComm(textH,20)\n"
   ]
  },
  {
   "cell_type": "code",
   "execution_count": 75,
   "metadata": {},
   "outputs": [
    {
     "data": {
      "text/plain": [
       "[('extra', 236),\n",
       " ('savings', 211),\n",
       " ('day', 189),\n",
       " ('save', 126),\n",
       " ('styles', 120),\n",
       " ('sale', 118),\n",
       " ('jcpenney', 96),\n",
       " ('new', 93),\n",
       " ('great', 89),\n",
       " ('confirm', 85),\n",
       " ('time', 84),\n",
       " ('get', 80),\n",
       " ('last', 79),\n",
       " ('home', 77),\n",
       " ('spring', 68),\n",
       " ('waiting', 66),\n",
       " ('summer', 64),\n",
       " ('open', 63),\n",
       " ('days', 61),\n",
       " ('select', 58)]"
      ]
     },
     "execution_count": 75,
     "metadata": {},
     "output_type": "execute_result"
    }
   ],
   "source": [
    "#subject lines with high readrate percent \n",
    "textL = \" \".join(Jc.trans[Jc.readRatePercent < 0.17])\n",
    "\n",
    "#20 most common words\n",
    "MostComm(textL,20)"
   ]
  },
  {
   "cell_type": "markdown",
   "metadata": {},
   "source": [
    "### WordPlay\n",
    "\n",
    "- The analysis shows how the words like earned, points, reward increses the chances of email being read.\n",
    "- The word Redacted shows the importance of personalisation of emails \n",
    "- The words only in high interest level but not in low interest level have been extracted"
   ]
  },
  {
   "cell_type": "code",
   "execution_count": 77,
   "metadata": {},
   "outputs": [
    {
     "name": "stdout",
     "output_type": "stream",
     "text": [
      "['featuring', 'appreciate', 'run', 'thousands', 'melting', 'reset', 'celebration', 'expire', 'perk', 'pickup', 'text', 'correct', 'clock', 'brand', 'urgent', 'routine', 'check', 'tardy', 'skin', 'messages', 'making', 'reminder', 'low', 'luck', 'sign', 'ticking', 'redeem', 'march', 'expires', 'puffers', 'longer', 'snow', 'password', 'leggings', 'survey']\n"
     ]
    }
   ],
   "source": [
    "def getTokens(text):\n",
    "    # Get tokens\n",
    "    tokens = [token for token in nltk.word_tokenize(text.lower()) if token.isalpha()]\n",
    "    tokens = [token for token in tokens if token not in stopwords.words('english')]\n",
    "    return tokens\n",
    "\n",
    "\n",
    "def diff(text1,text2):\n",
    "    #Get intersection of words    \n",
    "    h = set(getTokens(text1))\n",
    "    l = set(getTokens(text2))\n",
    "    return [word for word in h if word not in l]\n",
    "\n",
    "print(diff(textH,textL))"
   ]
  },
  {
   "cell_type": "markdown",
   "metadata": {},
   "source": [
    "- These are words that matter\n",
    "\n",
    "##### Next the words for the brands with highest readRatePercent has been analyzed\n",
    "- DavidJones, LeBonMarche, Debijenkorf"
   ]
  },
  {
   "cell_type": "code",
   "execution_count": 78,
   "metadata": {},
   "outputs": [
    {
     "name": "stdout",
     "output_type": "stream",
     "text": [
      "[('new', 67), ('save', 43), ('discover', 40), ('sale', 37), ('gift', 30), ('beauty', 30), ('fashion', 27), ('home', 26), ('range', 24), ('christmas', 24), ('season', 23), ('collection', 22), ('sunday', 22), ('items', 22), ('extra', 21), ('last', 20), ('ends', 20), ('redacted', 20), ('days', 20), ('today', 20)]\n"
     ]
    }
   ],
   "source": [
    "textTop3 = \" \".join(df.trans[df['brand'].isin(['DavidJones','LeBonMarche','Debijenkorf'])])\n",
    " \n",
    "print(MostComm(textTop3,20))\n"
   ]
  },
  {
   "cell_type": "code",
   "execution_count": null,
   "metadata": {
    "collapsed": true
   },
   "outputs": [],
   "source": [
    "textJc = \" \".join(Jc.trans)\n",
    "\n",
    "#printing 50 words that are in subjects of top3 but not in subjects of Jc \n",
    "print(diff(textTop3,textJc)[:50])"
   ]
  },
  {
   "cell_type": "markdown",
   "metadata": {},
   "source": [
    "### Emos\n",
    "\n",
    "- On the lighter node, I want to see the emos and the number of emos used in subject lines by top3 and JcPenney "
   ]
  },
  {
   "cell_type": "code",
   "execution_count": 85,
   "metadata": {},
   "outputs": [
    {
     "name": "stdout",
     "output_type": "stream",
     "text": [
      "The number of Emojis used by Top3 Brands are  0\n",
      "\n",
      "The number of Emojis used by JcPenney are  24\n",
      "The Emojis used by  JcPenney are  {'💡', '🔎', '🔥', '🍁', '☃', '❗', '🎁', '☀', '❤', '♥', '💎', '✨', '✔', '⚠', '💍', '👑', '👀', '💪', '🎄', '💃', '🎉', '🍀', '⚡', '🎃'}\n"
     ]
    }
   ],
   "source": [
    "from nltk.tokenize import regexp_tokenize\n",
    "#emoji ranges\n",
    "emoji = \"['\\U0001F300-\\U0001F5FF'|'\\U0001F600-\\U0001F64F'|'\\U0001F680-\\U0001F6FF'|'\\u2600-\\u26FF\\u2700-\\u27BF']\"\n",
    "\n",
    "#Get emos\n",
    "def getEmo(text):\n",
    "     return(set([ emo for emo in regexp_tokenize(text, emoji) if emo != \"'\"]))\n",
    "    \n",
    "print('The number of Emojis used by Top3 Brands are ',len(getEmo(textTop3)))\n",
    "\n",
    "print('\\nThe number of Emojis used by JcPenney are ',len(getEmo(textJc)))\n",
    "print('The Emojis used by  JcPenney are ',getEmo(textJc))"
   ]
  },
  {
   "cell_type": "markdown",
   "metadata": {},
   "source": [
    "#### Emos: Not recommended!!!!\n",
    "\n",
    "- As we can see the the top brands with the highest read rate have not used any emos. \n",
    "- Next will explore emo usage differences in jcPenney high read rate and low read rate subject lines\n"
   ]
  },
  {
   "cell_type": "code",
   "execution_count": 88,
   "metadata": {},
   "outputs": [
    {
     "name": "stdout",
     "output_type": "stream",
     "text": [
      "The number of Emojis used by highly read subjects for JcPenney are  0\n",
      "The number of Emojis used by highly read subjects for JcPenney are  18\n"
     ]
    }
   ],
   "source": [
    "print('The number of Emojis used by highly read subjects for JcPenney are ',len(getEmo(textH)))\n",
    "print('The number of Emojis used by highly read subjects for JcPenney are ',len(getEmo(textL)))"
   ]
  },
  {
   "cell_type": "markdown",
   "metadata": {},
   "source": [
    "- For Jcpenney also the subject lines with the emoji's have low readRatePercent\n",
    "- It can be the scenario that the emails with the emojis in the subject go directly to spam\n",
    "- Next will look into relation of the emoji count with the spam count"
   ]
  },
  {
   "cell_type": "code",
   "execution_count": 101,
   "metadata": {},
   "outputs": [
    {
     "name": "stdout",
     "output_type": "stream",
     "text": [
      "emoLen Vs readRatePercent\n",
      " emoLen\n",
      "0    0.205060\n",
      "1    0.166440\n",
      "2    0.171324\n",
      "Name: readRatePercent, dtype: float64\n",
      "\n",
      "\n",
      "emoLen Vs spamCount\n",
      " emoLen\n",
      "0     34.104091\n",
      "1    108.146341\n",
      "2    140.000000\n",
      "Name: spamCount, dtype: float64\n"
     ]
    },
    {
     "data": {
      "text/plain": [
       "<matplotlib.axes._subplots.AxesSubplot at 0x1095262b0>"
      ]
     },
     "execution_count": 101,
     "metadata": {},
     "output_type": "execute_result"
    },
    {
     "data": {
      "image/png": "[encoded data removed]",
      "text/plain": [
       "<matplotlib.figure.Figure at 0x108267ac8>"
      ]
     },
     "metadata": {},
     "output_type": "display_data"
    }
   ],
   "source": [
    "def emoLen(text):\n",
    "    return len(set([ emo for emo in regexp_tokenize(text, emoji) if emo != \"'\"]))\n",
    "\n",
    "# New variable\n",
    "Jc['emoLen']= Jc.trans.apply(emoLen)\n",
    "\n",
    "print(\"emoLen Vs readRatePercent\\n\",prop(Jc,'emoLen','readRatePercent'))\n",
    "\n",
    "print(\"\\n\\nemoLen Vs spamCount\\n\",prop(Jc,'emoLen','spamCount'))\n",
    "\n",
    "f, ax = plt.subplots(figsize=(10, 5))\n",
    "boxPlot('emoLen')"
   ]
  },
  {
   "cell_type": "markdown",
   "metadata": {},
   "source": [
    "\n",
    "This proves the hypothesis that the emoji's are directly related to lower readRatepercent, As emails which has emoji's in them have high chances of going to spam."
   ]
  },
  {
   "cell_type": "markdown",
   "metadata": {},
   "source": [
    "\n",
    "### Predictive Analytics\n",
    "\n",
    "- In the last report a regression model has been fitted to the data using subject and some of the other columns.\n",
    "- A pipeline using scikit learn has been created for fitting a model.\n",
    "- Only variable for which responses are known prior to sending the email have been used for modelling.\n",
    "\n",
    "For instance, variable such as spamCount and readDeleteRatePercent have not been used\n",
    "\n",
    "##### Data preparation"
   ]
  },
  {
   "cell_type": "code",
   "execution_count": 175,
   "metadata": {},
   "outputs": [],
   "source": [
    "#Jc.info()"
   ]
  },
  {
   "cell_type": "code",
   "execution_count": 113,
   "metadata": {},
   "outputs": [
    {
     "name": "stdout",
     "output_type": "stream",
     "text": [
      "<class 'pandas.core.frame.DataFrame'>\n",
      "Int64Index: 3906 entries, 14830 to 18763\n",
      "Data columns (total 7 columns):\n",
      "hasCreative     3906 non-null int64\n",
      "mobileReady     3906 non-null int64\n",
      "personalized    3906 non-null int64\n",
      "hasImage        3906 non-null int64\n",
      "subLen          3906 non-null int64\n",
      "emoLen          3906 non-null int64\n",
      "trans           3906 non-null object\n",
      "dtypes: int64(6), object(1)\n",
      "memory usage: 404.1+ KB\n"
     ]
    }
   ],
   "source": [
    "# converting bools to numeric\n",
    "Jc.hasCreative = Jc.hasCreative.astype(int)\n",
    "\n",
    "Jc.mobileReady = Jc.mobileReady.astype(int)\n",
    "Jc.personalized = Jc.personalized.astype(int)\n",
    "\n",
    "#Preparing data for modelling\n",
    "# variable selection\n",
    "X = Jc.loc[:,['hasCreative','mobileReady','personalized','hasImage','subLen','emoLen','trans']]\n",
    "\n",
    "\n",
    "y =Jc.readRatePercent\n",
    "\n",
    "X.info()"
   ]
  },
  {
   "cell_type": "markdown",
   "metadata": {},
   "source": [
    "#### Pipeline\n",
    "\n",
    "- Since text data and numeric data needs different preprocessing steps, \n",
    "Functional transformers have been craeted and used in pipeline using union.\n",
    "\n",
    "- For vectorizing text countVectorizer and Tfidf have been used."
   ]
  },
  {
   "cell_type": "code",
   "execution_count": 114,
   "metadata": {
    "collapsed": true
   },
   "outputs": [],
   "source": [
    "\n",
    "#preparing data for pipeline\n",
    "from sklearn.preprocessing import FunctionTransformer\n",
    "\n",
    "# trans -Get text data from X\n",
    "getTrans = FunctionTransformer(lambda x: x['trans'], validate=False)\n",
    "\n",
    "#  Numerics\n",
    "getNums = FunctionTransformer(lambda x: x[['hasCreative', 'mobileReady','hasImage','subLen','emoLen',\n",
    "                                           'personalized']], validate=False)\n",
    "  \n",
    " "
   ]
  },
  {
   "cell_type": "code",
   "execution_count": 120,
   "metadata": {
    "collapsed": true
   },
   "outputs": [],
   "source": [
    "from sklearn.pipeline import FeatureUnion\n",
    "from sklearn.feature_extraction.text import TfidfVectorizer\n",
    "from sklearn.pipeline import Pipeline\n",
    "\n",
    "# creating a union object to combine text and numeric variables in a pipeline\n",
    "# ngram as 2,3\n",
    "union = FeatureUnion(\n",
    "            transformer_list = [\n",
    "                ('numerics', Pipeline([\n",
    "                    ('selector', getNums )\n",
    "                ])),\n",
    "                ('text', Pipeline([\n",
    "                    ('selector', getTrans),\n",
    "                    ('vectorizer', TfidfVectorizer())\n",
    "                ]))\n",
    "             ]\n",
    "        )\n",
    "     "
   ]
  },
  {
   "cell_type": "markdown",
   "metadata": {},
   "source": [
    "#### Linear regression\n",
    "For base model, simple linear regression model has been fitted\n"
   ]
  },
  {
   "cell_type": "code",
   "execution_count": 122,
   "metadata": {
    "collapsed": true
   },
   "outputs": [],
   "source": [
    "from sklearn.linear_model import LinearRegression\n",
    "\n",
    "pl = Pipeline([\n",
    "        ('union', union),\n",
    "        ('reg',  LinearRegression())\n",
    "    ])"
   ]
  },
  {
   "cell_type": "code",
   "execution_count": 123,
   "metadata": {},
   "outputs": [
    {
     "data": {
      "text/plain": [
       "Pipeline(memory=None,\n",
       "     steps=[('union', FeatureUnion(n_jobs=1,\n",
       "       transformer_list=[('numerics', Pipeline(memory=None,\n",
       "     steps=[('selector', FunctionTransformer(accept_sparse=False,\n",
       "          func=<function <lambda> at 0x106874510>, inv_kw_args=None,\n",
       "          inverse_func=None, kw_args=None, pass_y='deprecated',\n",
       " ...ights=None)), ('reg', LinearRegression(copy_X=True, fit_intercept=True, n_jobs=1, normalize=False))])"
      ]
     },
     "execution_count": 123,
     "metadata": {},
     "output_type": "execute_result"
    },
    {
     "name": "stdout",
     "output_type": "stream",
     "text": [
      "0.340374308048\n"
     ]
    }
   ],
   "source": [
    "from sklearn.model_selection import train_test_split\n",
    "\n",
    "X_train, X_test, y_train, y_test = train_test_split(X,y,random_state=42)\n",
    "\n",
    "\n",
    "\n",
    "# Fit pl to the training data\n",
    "pl.fit(X_train, y_train)               \n",
    "                \n",
    "\n",
    "r2 = pl.score(X_test, y_test)\n",
    "\n",
    "print(r2)\n"
   ]
  },
  {
   "cell_type": "markdown",
   "metadata": {},
   "source": [
    "- For simple linear regression model r2 is 0.34\n",
    "- RMSE is 0.09"
   ]
  },
  {
   "cell_type": "code",
   "execution_count": 124,
   "metadata": {},
   "outputs": [
    {
     "name": "stdout",
     "output_type": "stream",
     "text": [
      "Root Mean Squared Error: 0.09432190649526001\n"
     ]
    }
   ],
   "source": [
    "from sklearn.metrics import mean_squared_error\n",
    "y_pred = pl.predict(X_test)\n",
    "rmse = np.sqrt(mean_squared_error(y_test,y_pred))\n",
    "print(\"Root Mean Squared Error: {}\".format(rmse))\n"
   ]
  },
  {
   "cell_type": "code",
   "execution_count": 129,
   "metadata": {},
   "outputs": [
    {
     "data": {
      "text/plain": [
       "('xgb_model',\n",
       " XGBRegressor(base_score=0.5, booster='gbtree', colsample_bylevel=1,\n",
       "        colsample_bytree=1, gamma=0, learning_rate=0.1, max_delta_step=0,\n",
       "        max_depth=3, min_child_weight=1, missing=None, n_estimators=100,\n",
       "        n_jobs=1, nthread=None, objective='reg:linear', random_state=0,\n",
       "        reg_alpha=0, reg_lambda=1, scale_pos_weight=1, seed=None,\n",
       "        silent=True, subsample=1))"
      ]
     },
     "execution_count": 129,
     "metadata": {},
     "output_type": "execute_result"
    },
    {
     "data": {
      "text/plain": [
       "Pipeline(memory=None,\n",
       "     steps=[('union', FeatureUnion(n_jobs=1,\n",
       "       transformer_list=[('numerics', Pipeline(memory=None,\n",
       "     steps=[('selector', FunctionTransformer(accept_sparse=False,\n",
       "          func=<function <lambda> at 0x106874510>, inv_kw_args=None,\n",
       "          inverse_func=None, kw_args=None, pass_y='deprecated',\n",
       " ...\n",
       "       reg_alpha=0, reg_lambda=1, scale_pos_weight=1, seed=None,\n",
       "       silent=True, subsample=1))])"
      ]
     },
     "execution_count": 129,
     "metadata": {},
     "output_type": "execute_result"
    },
    {
     "name": "stdout",
     "output_type": "stream",
     "text": [
      "0.500174697612\n",
      "Root Mean Squared Error: 0.0821056243157489\n"
     ]
    }
   ],
   "source": [
    "import xgboost as xgb\n",
    "# fitting xgbRegressor\n",
    "pl = Pipeline([\n",
    "        ('union', union),\n",
    "        (\"xgb_model\", xgb.XGBRegressor( objective=\"reg:linear\"))\n",
    "    ])\n",
    "\n",
    "\n",
    "pl.fit(X_train, y_train)               \n",
    "                \n",
    "r2 = pl.score(X_test, y_test)\n",
    "\n",
    "print(r2)\n",
    "y_pred = pl.predict(X_test)\n",
    "rmse = np.sqrt(mean_squared_error(y_test,y_pred))\n",
    "print(\"Root Mean Squared Error: {}\".format(rmse))\n"
   ]
  },
  {
   "cell_type": "markdown",
   "metadata": {},
   "source": [
    "###### With simple xgboost regressor \n",
    "- R2 0.500174697612\n",
    "- Root Mean Squared Error: 0.0821056243157489"
   ]
  },
  {
   "cell_type": "code",
   "execution_count": 157,
   "metadata": {},
   "outputs": [
    {
     "data": {
      "text/plain": [
       "Pipeline(memory=None,\n",
       "     steps=[('union', FeatureUnion(n_jobs=1,\n",
       "       transformer_list=[('numerics', Pipeline(memory=None,\n",
       "     steps=[('selector', FunctionTransformer(accept_sparse=False,\n",
       "          func=<function <lambda> at 0x106874510>, inv_kw_args=None,\n",
       "          inverse_func=None, kw_args=None, pass_y='deprecated',\n",
       " ...\n",
       "       reg_alpha=0, reg_lambda=1, scale_pos_weight=1, seed=None,\n",
       "       silent=True, subsample=1))])"
      ]
     },
     "execution_count": 157,
     "metadata": {},
     "output_type": "execute_result"
    },
    {
     "name": "stdout",
     "output_type": "stream",
     "text": [
      "0.507136512805\n",
      "Root Mean Squared Error: 0.08153181526654418\n"
     ]
    }
   ],
   "source": [
    "pl = Pipeline([\n",
    "        ('union', union),\n",
    "        (\"xgb_model\", xgb.XGBRegressor( objective=\"reg:linear\",colsample_bytree=0.3,n_estimators=200))\n",
    "    ])\n",
    "\n",
    "\n",
    "pl.fit(X_train, y_train)               \n",
    "                \n",
    "r2 = pl.score(X_test, y_test)\n",
    "\n",
    "print(r2)\n",
    "y_pred = pl.predict(X_test)\n",
    "rmse = np.sqrt(mean_squared_error(y_test,y_pred))\n",
    "print(\"Root Mean Squared Error: {}\".format(rmse))\n",
    "\n"
   ]
  },
  {
   "cell_type": "code",
   "execution_count": 170,
   "metadata": {},
   "outputs": [
    {
     "name": "stdout",
     "output_type": "stream",
     "text": [
      "Fitting 3 folds for each of 1008 candidates, totalling 3024 fits\n"
     ]
    },
    {
     "name": "stderr",
     "output_type": "stream",
     "text": [
      "[Parallel(n_jobs=1)]: Done 3024 out of 3024 | elapsed: 42.1min finished\n"
     ]
    },
    {
     "data": {
      "text/plain": [
       "GridSearchCV(cv=3, error_score='raise',\n",
       "       estimator=Pipeline(memory=None,\n",
       "     steps=[('union', FeatureUnion(n_jobs=1,\n",
       "       transformer_list=[('numerics', Pipeline(memory=None,\n",
       "     steps=[('selector', FunctionTransformer(accept_sparse=False,\n",
       "          func=<function <lambda> at 0x106874510>, inv_kw_args=None,\n",
       "          inverse_func=None, kw_args=None, pass_y='deprecated',\n",
       " ...\n",
       "       reg_alpha=0, reg_lambda=1, scale_pos_weight=1, seed=None,\n",
       "       silent=True, subsample=1))]),\n",
       "       fit_params=None, iid=True, n_jobs=1,\n",
       "       param_grid={'xgb_model__learning_rate': array([ 0.05]), 'xgb_model__max_depth': array([3, 4, 5, 6, 7, 8, 9]), 'xgb_model__n_estimators': array([100, 200, 300, 400, 500, 600, 700, 800, 900]), 'xgb_model__colsample_bytree': array([ 0.2,  0.3,  0.4,  0.5]), 'xgb_model__gamma': array([ 0. ,  0.5,  1. ,  1.5])},\n",
       "       pre_dispatch='2*n_jobs', refit=True, return_train_score='warn',\n",
       "       scoring=None, verbose=1)"
      ]
     },
     "execution_count": 170,
     "metadata": {},
     "output_type": "execute_result"
    },
    {
     "name": "stdout",
     "output_type": "stream",
     "text": [
      "0.483426519232\n",
      "Pipeline(memory=None,\n",
      "     steps=[('union', FeatureUnion(n_jobs=1,\n",
      "       transformer_list=[('numerics', Pipeline(memory=None,\n",
      "     steps=[('selector', FunctionTransformer(accept_sparse=False,\n",
      "          func=<function <lambda> at 0x106874510>, inv_kw_args=None,\n",
      "          inverse_func=None, kw_args=None, pass_y='deprecated',\n",
      " ... reg_alpha=0,\n",
      "       reg_lambda=1, scale_pos_weight=1, seed=None, silent=True,\n",
      "       subsample=1))])\n"
     ]
    }
   ],
   "source": [
    "# parameter tuning\n",
    "from sklearn.model_selection import GridSearchCV\n",
    "grid = {\n",
    "    'xgb_model__learning_rate': np.arange(.05,0.1 ,.05),\n",
    "    'xgb_model__max_depth': np.arange(3,10, 1),\n",
    "    'xgb_model__n_estimators': np.arange(100, 1000, 100),\n",
    "    'xgb_model__colsample_bytree': np.arange(0.2, 0.6, 0.1),\n",
    "    'xgb_model__gamma': np.arange(0, 2, 0.5)\n",
    "}\n",
    "\n",
    "pl1 = Pipeline([\n",
    "        ('union', union),\n",
    "        (\"xgb_model\", xgb.XGBRegressor( objective=\"reg:linear\"))\n",
    "    ])\n",
    "\n",
    "\n",
    "\n",
    "cv = GridSearchCV(estimator=pl1,\n",
    "                          param_grid=grid,\n",
    "                          cv=3, verbose=1)\n",
    "\n",
    "\n",
    "\n",
    "cv.fit(X_train, y_train) \n",
    "\n",
    "# metrics\n",
    "print(cv.best_score_)\n",
    "print(cv.best_estimator_)\n"
   ]
  },
  {
   "cell_type": "markdown",
   "metadata": {},
   "source": [
    "- Due ro time constraints I have not focused much on the modeling part\n",
    "- My major focus was on understading the data better, as I feel this is the most important factor for modeling"
   ]
  },
  {
   "cell_type": "markdown",
   "metadata": {},
   "source": [
    "#### Conclusion\n",
    "\n",
    "- The success of the campaign is very much predictable. \n",
    "- Data analytics can make a huge dufference in performance of the email camapign analytics."
   ]
  }
 ],
 "metadata": {
  "kernelspec": {
   "display_name": "Python 3",
   "language": "python",
   "name": "python3"
  },
  "language_info": {
   "codemirror_mode": {
    "name": "ipython",
    "version": 3
   },
   "file_extension": ".py",
   "mimetype": "text/x-python",
   "name": "python",
   "nbconvert_exporter": "python",
   "pygments_lexer": "ipython3",
   "version": "3.6.3"
  }
 },
 "nbformat": 4,
 "nbformat_minor": 2
}
